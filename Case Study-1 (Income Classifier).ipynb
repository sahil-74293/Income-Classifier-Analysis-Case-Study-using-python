{
 "cells": [
  {
   "cell_type": "code",
   "execution_count": 1,
   "id": "4640b85f-5d6c-4454-b7e9-21d57b10c1d8",
   "metadata": {},
   "outputs": [],
   "source": [
    "#classifying personal income\n",
    "#importing the necessary libraries\n",
    "import pandas as pd\n",
    "import numpy as np\n",
    "import seaborn as sns"
   ]
  },
  {
   "cell_type": "code",
   "execution_count": 2,
   "id": "320815b4-a326-4cfa-b59b-af8a86131bb4",
   "metadata": {},
   "outputs": [],
   "source": [
    "#partitioning the data into train and test set\n",
    "from sklearn.model_selection import train_test_split"
   ]
  },
  {
   "cell_type": "code",
   "execution_count": 3,
   "id": "7a536664-59e1-4d33-b0b7-92961bbeb72f",
   "metadata": {},
   "outputs": [],
   "source": [
    "#importing library for logistic regression\n",
    "from sklearn.linear_model import LogisticRegression"
   ]
  },
  {
   "cell_type": "code",
   "execution_count": 4,
   "id": "b37e1d35-02b5-4f71-9726-4cf489e8665d",
   "metadata": {},
   "outputs": [],
   "source": [
    "#importing performance metrics, accuracy score and confusion matrix\n",
    "from sklearn.metrics import accuracy_score,confusion_matrix"
   ]
  },
  {
   "cell_type": "code",
   "execution_count": 5,
   "id": "b8e218b1-492c-4b88-be1f-b8d707c37430",
   "metadata": {},
   "outputs": [],
   "source": [
    "#importing the data \n",
    "data_income = pd.read_csv(r\"C:\\Users\\sahil\\Desktop\\College Study Material BCA(Analytics)(semester wise)\\Nptel (Python for data science)\\income(1).csv\")\n",
    "#creating a copy of the data\n",
    "data = data_income.copy()"
   ]
  },
  {
   "cell_type": "code",
   "execution_count": 6,
   "id": "996c2e30-a4a5-4f4d-b07d-e3e27d49d0ca",
   "metadata": {},
   "outputs": [
    {
     "name": "stdout",
     "output_type": "stream",
     "text": [
      "<class 'pandas.core.frame.DataFrame'>\n",
      "RangeIndex: 31978 entries, 0 to 31977\n",
      "Data columns (total 13 columns):\n",
      " #   Column         Non-Null Count  Dtype \n",
      "---  ------         --------------  ----- \n",
      " 0   age            31978 non-null  int64 \n",
      " 1   JobType        31978 non-null  object\n",
      " 2   EdType         31978 non-null  object\n",
      " 3   maritalstatus  31978 non-null  object\n",
      " 4   occupation     31978 non-null  object\n",
      " 5   relationship   31978 non-null  object\n",
      " 6   race           31978 non-null  object\n",
      " 7   gender         31978 non-null  object\n",
      " 8   capitalgain    31978 non-null  int64 \n",
      " 9   capitalloss    31978 non-null  int64 \n",
      " 10  hoursperweek   31978 non-null  int64 \n",
      " 11  nativecountry  31978 non-null  object\n",
      " 12  SalStat        31978 non-null  object\n",
      "dtypes: int64(4), object(9)\n",
      "memory usage: 3.2+ MB\n",
      "None\n"
     ]
    }
   ],
   "source": [
    "#exploratory data analysis\n",
    "#1. getting to know the data\n",
    "#2. Data perprocessing(missing values)\n",
    "#3. cross table and data visualization\n",
    "#checking the variable data type\n",
    "print(data.info())"
   ]
  },
  {
   "cell_type": "code",
   "execution_count": 8,
   "id": "f1f1b226-ccd3-409b-8e64-f879b7698887",
   "metadata": {},
   "outputs": [
    {
     "data": {
      "text/plain": [
       "age              0\n",
       "JobType          0\n",
       "EdType           0\n",
       "maritalstatus    0\n",
       "occupation       0\n",
       "relationship     0\n",
       "race             0\n",
       "gender           0\n",
       "capitalgain      0\n",
       "capitalloss      0\n",
       "hoursperweek     0\n",
       "nativecountry    0\n",
       "SalStat          0\n",
       "dtype: int64"
      ]
     },
     "execution_count": 8,
     "metadata": {},
     "output_type": "execute_result"
    }
   ],
   "source": [
    "#checking for any missing values\n",
    "data.isnull().sum()"
   ]
  },
  {
   "cell_type": "code",
   "execution_count": 9,
   "id": "d437f824-53f2-4966-b234-c024736b63f2",
   "metadata": {},
   "outputs": [
    {
     "name": "stdout",
     "output_type": "stream",
     "text": [
      "                age   capitalgain   capitalloss  hoursperweek\n",
      "count  31978.000000  31978.000000  31978.000000  31978.000000\n",
      "mean      38.579023   1064.360623     86.739352     40.417850\n",
      "std       13.662085   7298.596271    401.594301     12.345285\n",
      "min       17.000000      0.000000      0.000000      1.000000\n",
      "25%       28.000000      0.000000      0.000000     40.000000\n",
      "50%       37.000000      0.000000      0.000000     40.000000\n",
      "75%       48.000000      0.000000      0.000000     45.000000\n",
      "max       90.000000  99999.000000   4356.000000     99.000000\n"
     ]
    }
   ],
   "source": [
    "# summary of numerical variables\n",
    "summary_num = data.describe()\n",
    "print(summary_num)"
   ]
  },
  {
   "cell_type": "code",
   "execution_count": 10,
   "id": "b5b23a3f-84c4-4b6c-afff-f61441650464",
   "metadata": {},
   "outputs": [
    {
     "name": "stdout",
     "output_type": "stream",
     "text": [
      "         JobType    EdType        maritalstatus       occupation relationship  \\\n",
      "count      31978     31978                31978            31978        31978   \n",
      "unique         9        16                    7               15            6   \n",
      "top      Private   HS-grad   Married-civ-spouse   Prof-specialty      Husband   \n",
      "freq       22286     10368                14692             4038        12947   \n",
      "\n",
      "          race gender   nativecountry                        SalStat  \n",
      "count    31978  31978           31978                          31978  \n",
      "unique       5      2              41                              2  \n",
      "top      White   Male   United-States   less than or equal to 50,000  \n",
      "freq     27430  21370           29170                          24283  \n"
     ]
    }
   ],
   "source": [
    "#summary of categorical variables\n",
    "summary_cate = data.describe(include='O')\n",
    "print(summary_cate)"
   ]
  },
  {
   "cell_type": "code",
   "execution_count": 13,
   "id": "c68e89f2-00cc-4e34-8f48-8f507023ee95",
   "metadata": {},
   "outputs": [
    {
     "data": {
      "text/plain": [
       "JobType\n",
       " Private             22286\n",
       " Self-emp-not-inc     2499\n",
       " Local-gov            2067\n",
       " ?                    1809\n",
       " State-gov            1279\n",
       " Self-emp-inc         1074\n",
       " Federal-gov           943\n",
       " Without-pay            14\n",
       " Never-worked            7\n",
       "Name: count, dtype: int64"
      ]
     },
     "execution_count": 13,
     "metadata": {},
     "output_type": "execute_result"
    }
   ],
   "source": [
    "#getting the frequencies of each categories\n",
    "data['JobType'].value_counts()"
   ]
  },
  {
   "cell_type": "code",
   "execution_count": 14,
   "id": "47de8f18-e50d-47b9-a5a7-597f135a2326",
   "metadata": {},
   "outputs": [
    {
     "data": {
      "text/plain": [
       "occupation\n",
       " Prof-specialty       4038\n",
       " Craft-repair         4030\n",
       " Exec-managerial      3992\n",
       " Adm-clerical         3721\n",
       " Sales                3584\n",
       " Other-service        3212\n",
       " Machine-op-inspct    1966\n",
       " ?                    1816\n",
       " Transport-moving     1572\n",
       " Handlers-cleaners    1350\n",
       " Farming-fishing       989\n",
       " Tech-support          912\n",
       " Protective-serv       644\n",
       " Priv-house-serv       143\n",
       " Armed-Forces            9\n",
       "Name: count, dtype: int64"
      ]
     },
     "execution_count": 14,
     "metadata": {},
     "output_type": "execute_result"
    }
   ],
   "source": [
    "data['occupation'].value_counts()"
   ]
  },
  {
   "cell_type": "code",
   "execution_count": 15,
   "id": "be5c3f77-f071-4d8c-b00f-d94ed35d0571",
   "metadata": {},
   "outputs": [
    {
     "name": "stdout",
     "output_type": "stream",
     "text": [
      "[' ?' ' Federal-gov' ' Local-gov' ' Never-worked' ' Private'\n",
      " ' Self-emp-inc' ' Self-emp-not-inc' ' State-gov' ' Without-pay']\n"
     ]
    }
   ],
   "source": [
    "#checking for unique classes\n",
    "print(np.unique(data['JobType']))"
   ]
  },
  {
   "cell_type": "code",
   "execution_count": 16,
   "id": "6234f341-d8b8-48b6-94e9-79c949c0b557",
   "metadata": {},
   "outputs": [
    {
     "name": "stdout",
     "output_type": "stream",
     "text": [
      "[' ?' ' Adm-clerical' ' Armed-Forces' ' Craft-repair' ' Exec-managerial'\n",
      " ' Farming-fishing' ' Handlers-cleaners' ' Machine-op-inspct'\n",
      " ' Other-service' ' Priv-house-serv' ' Prof-specialty' ' Protective-serv'\n",
      " ' Sales' ' Tech-support' ' Transport-moving']\n"
     ]
    }
   ],
   "source": [
    "print(np.unique(data['occupation']))"
   ]
  },
  {
   "cell_type": "code",
   "execution_count": 17,
   "id": "12437af9-c24b-4dd1-8c2c-510dc4a69038",
   "metadata": {},
   "outputs": [],
   "source": [
    "data = pd.read_csv(r\"C:\\Users\\sahil\\Desktop\\College Study Material BCA(Analytics)(semester wise)\\Nptel (Python for data science)\\income(1).csv\",na_values=[\" ?\"])"
   ]
  },
  {
   "cell_type": "code",
   "execution_count": null,
   "id": "8df1ae83-ea28-451f-bf3a-dc310dd678c2",
   "metadata": {},
   "outputs": [],
   "source": [
    "#Data preprocessing"
   ]
  },
  {
   "cell_type": "code",
   "execution_count": 18,
   "id": "2093b0ba-36a6-4307-bc48-f6718c2c00a3",
   "metadata": {},
   "outputs": [
    {
     "data": {
      "text/plain": [
       "age                 0\n",
       "JobType          1809\n",
       "EdType              0\n",
       "maritalstatus       0\n",
       "occupation       1816\n",
       "relationship        0\n",
       "race                0\n",
       "gender              0\n",
       "capitalgain         0\n",
       "capitalloss         0\n",
       "hoursperweek        0\n",
       "nativecountry       0\n",
       "SalStat             0\n",
       "dtype: int64"
      ]
     },
     "execution_count": 18,
     "metadata": {},
     "output_type": "execute_result"
    }
   ],
   "source": [
    "data.isnull().sum()"
   ]
  },
  {
   "cell_type": "code",
   "execution_count": 19,
   "id": "41009965-f053-43f2-8260-3cf97f164093",
   "metadata": {},
   "outputs": [],
   "source": [
    "missing = data[data.isnull().any(axis=1)]"
   ]
  },
  {
   "cell_type": "code",
   "execution_count": 20,
   "id": "77ad5ce5-a2ec-4703-b8c1-de275c0d0d07",
   "metadata": {},
   "outputs": [
    {
     "name": "stdout",
     "output_type": "stream",
     "text": [
      "       age JobType         EdType        maritalstatus occupation  \\\n",
      "8       17     NaN           11th        Never-married        NaN   \n",
      "17      32     NaN   Some-college   Married-civ-spouse        NaN   \n",
      "29      22     NaN   Some-college        Never-married        NaN   \n",
      "42      52     NaN           12th        Never-married        NaN   \n",
      "44      63     NaN        1st-4th   Married-civ-spouse        NaN   \n",
      "...    ...     ...            ...                  ...        ...   \n",
      "31892   59     NaN      Bachelors   Married-civ-spouse        NaN   \n",
      "31934   20     NaN        HS-grad        Never-married        NaN   \n",
      "31945   28     NaN   Some-college   Married-civ-spouse        NaN   \n",
      "31967   80     NaN        HS-grad              Widowed        NaN   \n",
      "31968   17     NaN           11th        Never-married        NaN   \n",
      "\n",
      "          relationship    race   gender  capitalgain  capitalloss  \\\n",
      "8            Own-child   White   Female            0            0   \n",
      "17             Husband   White     Male            0            0   \n",
      "29           Own-child   White     Male            0            0   \n",
      "42      Other-relative   Black     Male          594            0   \n",
      "44             Husband   White     Male            0            0   \n",
      "...                ...     ...      ...          ...          ...   \n",
      "31892          Husband   White     Male            0            0   \n",
      "31934   Other-relative   White   Female            0            0   \n",
      "31945             Wife   White   Female            0         1887   \n",
      "31967    Not-in-family   White     Male            0            0   \n",
      "31968        Own-child   White     Male            0            0   \n",
      "\n",
      "       hoursperweek   nativecountry                        SalStat  \n",
      "8                 5   United-States   less than or equal to 50,000  \n",
      "17               40   United-States   less than or equal to 50,000  \n",
      "29               40   United-States   less than or equal to 50,000  \n",
      "42               40   United-States   less than or equal to 50,000  \n",
      "44               35   United-States   less than or equal to 50,000  \n",
      "...             ...             ...                            ...  \n",
      "31892            40   United-States            greater than 50,000  \n",
      "31934            35   United-States   less than or equal to 50,000  \n",
      "31945            40   United-States            greater than 50,000  \n",
      "31967            24   United-States   less than or equal to 50,000  \n",
      "31968            40   United-States   less than or equal to 50,000  \n",
      "\n",
      "[1816 rows x 13 columns]\n"
     ]
    }
   ],
   "source": [
    "print(missing)"
   ]
  },
  {
   "cell_type": "code",
   "execution_count": 67,
   "id": "40e6d5f6-d75e-47f8-afd8-5f7122f5c53d",
   "metadata": {},
   "outputs": [],
   "source": [
    "#removing all the data with missing values\n",
    "data2 = data.dropna(axis=0)\n",
    "data3 = data2.copy()\n",
    "data4 = data3.copy()"
   ]
  },
  {
   "cell_type": "code",
   "execution_count": 26,
   "id": "a174ce98-a8f0-4632-928c-fd88d8b7dd9f",
   "metadata": {},
   "outputs": [
    {
     "data": {
      "text/plain": [
       "Index(['age', 'JobType', 'EdType', 'maritalstatus', 'occupation',\n",
       "       'relationship', 'race', 'gender', 'capitalgain', 'capitalloss',\n",
       "       'hoursperweek', 'nativecountry', 'SalStat'],\n",
       "      dtype='object')"
      ]
     },
     "execution_count": 26,
     "metadata": {},
     "output_type": "execute_result"
    }
   ],
   "source": [
    "#cross table & data validation\n",
    "#extracting the columns names\n",
    "data2.columns"
   ]
  },
  {
   "cell_type": "code",
   "execution_count": 27,
   "id": "f67421e2-9ca9-4d80-adf0-7dc9ad4c67b3",
   "metadata": {},
   "outputs": [
    {
     "name": "stdout",
     "output_type": "stream",
     "text": [
      "col_0       count\n",
      "gender           \n",
      " Female  0.324315\n",
      " Male    0.675685\n"
     ]
    }
   ],
   "source": [
    "#gender proportion table\n",
    "gender = pd.crosstab( index = data2['gender'],\n",
    "                     columns = 'count',\n",
    "                     normalize = True )\n",
    "print(gender)"
   ]
  },
  {
   "cell_type": "code",
   "execution_count": 28,
   "id": "fc1095fd-68d0-4b15-9c1e-3280ac2ea389",
   "metadata": {},
   "outputs": [
    {
     "name": "stdout",
     "output_type": "stream",
     "text": [
      "SalStat   greater than 50,000   less than or equal to 50,000\n",
      "gender                                                      \n",
      " Female              0.113678                       0.886322\n",
      " Male                0.313837                       0.686163\n",
      "All                  0.248922                       0.751078\n"
     ]
    }
   ],
   "source": [
    "#checking the variation of salaries across genders\n",
    "#gender v/s salary status:\n",
    "gender_salstat = pd.crosstab(index = data2['gender'],\n",
    "                             columns = data2['SalStat'],\n",
    "                             margins = True ,\n",
    "                             normalize = 'index' )\n",
    "print(gender_salstat)"
   ]
  },
  {
   "cell_type": "code",
   "execution_count": 42,
   "id": "5feb2dad-06cb-4dc5-b20d-27057027c522",
   "metadata": {},
   "outputs": [
    {
     "data": {
      "image/png": "[encoded data removed]",
      "text/plain": [
       "<Figure size 640x480 with 1 Axes>"
      ]
     },
     "metadata": {},
     "output_type": "display_data"
    }
   ],
   "source": [
    "#visualization of frequency distribution of salary status :\n",
    "SalStat = sns.countplot(x= data2['SalStat'],data= data2)\n"
   ]
  },
  {
   "cell_type": "code",
   "execution_count": null,
   "id": "5095bfc0-3b2a-4cc6-8f5e-68ab6e5a36e2",
   "metadata": {},
   "outputs": [],
   "source": [
    "# 75 % of people's salary status is <=50,000 & 25% of people's salary status is > 50,000\n"
   ]
  },
  {
   "cell_type": "code",
   "execution_count": 52,
   "id": "206e1664-a24f-4a5d-860b-9856338f8062",
   "metadata": {},
   "outputs": [
    {
     "name": "stderr",
     "output_type": "stream",
     "text": [
      "C:\\Users\\sahil\\AppData\\Local\\Temp\\ipykernel_23516\\2195577657.py:2: UserWarning: \n",
      "\n",
      "`distplot` is a deprecated function and will be removed in seaborn v0.14.0.\n",
      "\n",
      "Please adapt your code to use either `displot` (a figure-level function with\n",
      "similar flexibility) or `histplot` (an axes-level function for histograms).\n",
      "\n",
      "For a guide to updating your code to use the new functions, please see\n",
      "https://gist.github.com/mwaskom/de44147ed2974457ad6372750bbe5751\n",
      "\n",
      "  sns.distplot(data2['age'], bins=10, kde=False)\n"
     ]
    },
    {
     "data": {
      "text/plain": [
       "<Axes: xlabel='age'>"
      ]
     },
     "execution_count": 52,
     "metadata": {},
     "output_type": "execute_result"
    },
    {
     "data": {
      "image/png": "[encoded data removed]",
      "text/plain": [
       "<Figure size 640x480 with 1 Axes>"
      ]
     },
     "metadata": {},
     "output_type": "display_data"
    }
   ],
   "source": [
    "#plotting histogram of age variable\n",
    "sns.distplot(data2['age'], bins=10, kde=False)\n",
    "# People with age 20-45 age are high in frequency"
   ]
  },
  {
   "cell_type": "code",
   "execution_count": 58,
   "id": "6297447c-a8ce-4abb-ad0a-4607512ceced",
   "metadata": {},
   "outputs": [
    {
     "data": {
      "text/plain": [
       "SalStat\n",
       " greater than 50,000             43.0\n",
       " less than or equal to 50,000    34.0\n",
       "Name: age, dtype: float64"
      ]
     },
     "execution_count": 58,
     "metadata": {},
     "output_type": "execute_result"
    },
    {
     "data": {
      "image/png": "[encoded data removed]",
      "text/plain": [
       "<Figure size 640x480 with 1 Axes>"
      ]
     },
     "metadata": {},
     "output_type": "display_data"
    }
   ],
   "source": [
    "# Box Plot - Age vs Salary status \n",
    "sns.boxplot(x='SalStat', y='age', data=data2)\n",
    "data2.groupby('SalStat')['age'].median()\n",
    "\n",
    "# people with 35-50 age are more likely to earn > 50000 USD p.a\n",
    "# people with 25-35 age are more likely to earn <= 50000 USD p.a\n"
   ]
  },
  {
   "cell_type": "code",
   "execution_count": 59,
   "id": "8a02c873-b3ee-4642-bb25-db285501f918",
   "metadata": {},
   "outputs": [
    {
     "data": {
      "text/html": [
       "<div>\n",
       "<style scoped>\n",
       "    .dataframe tbody tr th:only-of-type {\n",
       "        vertical-align: middle;\n",
       "    }\n",
       "\n",
       "    .dataframe tbody tr th {\n",
       "        vertical-align: top;\n",
       "    }\n",
       "\n",
       "    .dataframe thead th {\n",
       "        text-align: right;\n",
       "    }\n",
       "</style>\n",
       "<table border=\"1\" class=\"dataframe\">\n",
       "  <thead>\n",
       "    <tr style=\"text-align: right;\">\n",
       "      <th>SalStat</th>\n",
       "      <th>greater than 50,000</th>\n",
       "      <th>less than or equal to 50,000</th>\n",
       "    </tr>\n",
       "    <tr>\n",
       "      <th>JobType</th>\n",
       "      <th></th>\n",
       "      <th></th>\n",
       "    </tr>\n",
       "  </thead>\n",
       "  <tbody>\n",
       "    <tr>\n",
       "      <th>Federal-gov</th>\n",
       "      <td>38.7</td>\n",
       "      <td>61.3</td>\n",
       "    </tr>\n",
       "    <tr>\n",
       "      <th>Local-gov</th>\n",
       "      <td>29.5</td>\n",
       "      <td>70.5</td>\n",
       "    </tr>\n",
       "    <tr>\n",
       "      <th>Private</th>\n",
       "      <td>21.9</td>\n",
       "      <td>78.1</td>\n",
       "    </tr>\n",
       "    <tr>\n",
       "      <th>Self-emp-inc</th>\n",
       "      <td>55.9</td>\n",
       "      <td>44.1</td>\n",
       "    </tr>\n",
       "    <tr>\n",
       "      <th>Self-emp-not-inc</th>\n",
       "      <td>28.6</td>\n",
       "      <td>71.4</td>\n",
       "    </tr>\n",
       "    <tr>\n",
       "      <th>State-gov</th>\n",
       "      <td>26.9</td>\n",
       "      <td>73.1</td>\n",
       "    </tr>\n",
       "    <tr>\n",
       "      <th>Without-pay</th>\n",
       "      <td>0.0</td>\n",
       "      <td>100.0</td>\n",
       "    </tr>\n",
       "    <tr>\n",
       "      <th>All</th>\n",
       "      <td>24.9</td>\n",
       "      <td>75.1</td>\n",
       "    </tr>\n",
       "  </tbody>\n",
       "</table>\n",
       "</div>"
      ],
      "text/plain": [
       "SalStat             greater than 50,000   less than or equal to 50,000\n",
       "JobType                                                               \n",
       " Federal-gov                       38.7                           61.3\n",
       " Local-gov                         29.5                           70.5\n",
       " Private                           21.9                           78.1\n",
       " Self-emp-inc                      55.9                           44.1\n",
       " Self-emp-not-inc                  28.6                           71.4\n",
       " State-gov                         26.9                           73.1\n",
       " Without-pay                        0.0                          100.0\n",
       "All                                24.9                           75.1"
      ]
     },
     "execution_count": 59,
     "metadata": {},
     "output_type": "execute_result"
    },
    {
     "data": {
      "image/png": "[encoded data removed]",
      "text/plain": [
       "<Figure size 640x480 with 1 Axes>"
      ]
     },
     "metadata": {},
     "output_type": "display_data"
    }
   ],
   "source": [
    "# Jobtype\n",
    "JobType     = sns.countplot(y=data2['JobType'],hue = 'SalStat', data=data2)\n",
    "job_salstat =pd.crosstab(index = data2[\"JobType\"],columns = data2['SalStat'], margins = True, normalize =  'index')  \n",
    "round(job_salstat*100,1)\n"
   ]
  },
  {
   "cell_type": "code",
   "execution_count": 60,
   "id": "8a85a0a3-94c7-4bff-bfe7-26e62a6f56e8",
   "metadata": {},
   "outputs": [
    {
     "data": {
      "text/html": [
       "<div>\n",
       "<style scoped>\n",
       "    .dataframe tbody tr th:only-of-type {\n",
       "        vertical-align: middle;\n",
       "    }\n",
       "\n",
       "    .dataframe tbody tr th {\n",
       "        vertical-align: top;\n",
       "    }\n",
       "\n",
       "    .dataframe thead th {\n",
       "        text-align: right;\n",
       "    }\n",
       "</style>\n",
       "<table border=\"1\" class=\"dataframe\">\n",
       "  <thead>\n",
       "    <tr style=\"text-align: right;\">\n",
       "      <th>SalStat</th>\n",
       "      <th>greater than 50,000</th>\n",
       "      <th>less than or equal to 50,000</th>\n",
       "    </tr>\n",
       "    <tr>\n",
       "      <th>EdType</th>\n",
       "      <th></th>\n",
       "      <th></th>\n",
       "    </tr>\n",
       "  </thead>\n",
       "  <tbody>\n",
       "    <tr>\n",
       "      <th>10th</th>\n",
       "      <td>7.2</td>\n",
       "      <td>92.8</td>\n",
       "    </tr>\n",
       "    <tr>\n",
       "      <th>11th</th>\n",
       "      <td>5.6</td>\n",
       "      <td>94.4</td>\n",
       "    </tr>\n",
       "    <tr>\n",
       "      <th>12th</th>\n",
       "      <td>7.7</td>\n",
       "      <td>92.3</td>\n",
       "    </tr>\n",
       "    <tr>\n",
       "      <th>1st-4th</th>\n",
       "      <td>4.0</td>\n",
       "      <td>96.0</td>\n",
       "    </tr>\n",
       "    <tr>\n",
       "      <th>5th-6th</th>\n",
       "      <td>4.2</td>\n",
       "      <td>95.8</td>\n",
       "    </tr>\n",
       "    <tr>\n",
       "      <th>7th-8th</th>\n",
       "      <td>6.3</td>\n",
       "      <td>93.7</td>\n",
       "    </tr>\n",
       "    <tr>\n",
       "      <th>9th</th>\n",
       "      <td>5.5</td>\n",
       "      <td>94.5</td>\n",
       "    </tr>\n",
       "    <tr>\n",
       "      <th>Assoc-acdm</th>\n",
       "      <td>25.4</td>\n",
       "      <td>74.6</td>\n",
       "    </tr>\n",
       "    <tr>\n",
       "      <th>Assoc-voc</th>\n",
       "      <td>26.3</td>\n",
       "      <td>73.7</td>\n",
       "    </tr>\n",
       "    <tr>\n",
       "      <th>Bachelors</th>\n",
       "      <td>42.1</td>\n",
       "      <td>57.9</td>\n",
       "    </tr>\n",
       "    <tr>\n",
       "      <th>Doctorate</th>\n",
       "      <td>74.7</td>\n",
       "      <td>25.3</td>\n",
       "    </tr>\n",
       "    <tr>\n",
       "      <th>HS-grad</th>\n",
       "      <td>16.4</td>\n",
       "      <td>83.6</td>\n",
       "    </tr>\n",
       "    <tr>\n",
       "      <th>Masters</th>\n",
       "      <td>56.4</td>\n",
       "      <td>43.6</td>\n",
       "    </tr>\n",
       "    <tr>\n",
       "      <th>Preschool</th>\n",
       "      <td>0.0</td>\n",
       "      <td>100.0</td>\n",
       "    </tr>\n",
       "    <tr>\n",
       "      <th>Prof-school</th>\n",
       "      <td>74.9</td>\n",
       "      <td>25.1</td>\n",
       "    </tr>\n",
       "    <tr>\n",
       "      <th>Some-college</th>\n",
       "      <td>20.0</td>\n",
       "      <td>80.0</td>\n",
       "    </tr>\n",
       "    <tr>\n",
       "      <th>All</th>\n",
       "      <td>24.9</td>\n",
       "      <td>75.1</td>\n",
       "    </tr>\n",
       "  </tbody>\n",
       "</table>\n",
       "</div>"
      ],
      "text/plain": [
       "SalStat         greater than 50,000   less than or equal to 50,000\n",
       "EdType                                                            \n",
       " 10th                           7.2                           92.8\n",
       " 11th                           5.6                           94.4\n",
       " 12th                           7.7                           92.3\n",
       " 1st-4th                        4.0                           96.0\n",
       " 5th-6th                        4.2                           95.8\n",
       " 7th-8th                        6.3                           93.7\n",
       " 9th                            5.5                           94.5\n",
       " Assoc-acdm                    25.4                           74.6\n",
       " Assoc-voc                     26.3                           73.7\n",
       " Bachelors                     42.1                           57.9\n",
       " Doctorate                     74.7                           25.3\n",
       " HS-grad                       16.4                           83.6\n",
       " Masters                       56.4                           43.6\n",
       " Preschool                      0.0                          100.0\n",
       " Prof-school                   74.9                           25.1\n",
       " Some-college                  20.0                           80.0\n",
       "All                            24.9                           75.1"
      ]
     },
     "execution_count": 60,
     "metadata": {},
     "output_type": "execute_result"
    },
    {
     "data": {
      "image/png": "[encoded data removed]",
      "text/plain": [
       "<Figure size 640x480 with 1 Axes>"
      ]
     },
     "metadata": {},
     "output_type": "display_data"
    }
   ],
   "source": [
    "# Education\n",
    "Education   = sns.countplot(y=data2['EdType'],hue = 'SalStat', data=data2)\n",
    "EdType_salstat = pd.crosstab(index = data2[\"EdType\"], columns = data2['SalStat'],margins = True,normalize ='index')  \n",
    "round(EdType_salstat*100,1)\n"
   ]
  },
  {
   "cell_type": "code",
   "execution_count": 61,
   "id": "aca3e397-36d3-4d08-81f6-6ac006bba0db",
   "metadata": {},
   "outputs": [
    {
     "data": {
      "text/html": [
       "<div>\n",
       "<style scoped>\n",
       "    .dataframe tbody tr th:only-of-type {\n",
       "        vertical-align: middle;\n",
       "    }\n",
       "\n",
       "    .dataframe tbody tr th {\n",
       "        vertical-align: top;\n",
       "    }\n",
       "\n",
       "    .dataframe thead th {\n",
       "        text-align: right;\n",
       "    }\n",
       "</style>\n",
       "<table border=\"1\" class=\"dataframe\">\n",
       "  <thead>\n",
       "    <tr style=\"text-align: right;\">\n",
       "      <th>SalStat</th>\n",
       "      <th>greater than 50,000</th>\n",
       "      <th>less than or equal to 50,000</th>\n",
       "    </tr>\n",
       "    <tr>\n",
       "      <th>occupation</th>\n",
       "      <th></th>\n",
       "      <th></th>\n",
       "    </tr>\n",
       "  </thead>\n",
       "  <tbody>\n",
       "    <tr>\n",
       "      <th>Adm-clerical</th>\n",
       "      <td>13.4</td>\n",
       "      <td>86.6</td>\n",
       "    </tr>\n",
       "    <tr>\n",
       "      <th>Armed-Forces</th>\n",
       "      <td>11.1</td>\n",
       "      <td>88.9</td>\n",
       "    </tr>\n",
       "    <tr>\n",
       "      <th>Craft-repair</th>\n",
       "      <td>22.5</td>\n",
       "      <td>77.5</td>\n",
       "    </tr>\n",
       "    <tr>\n",
       "      <th>Exec-managerial</th>\n",
       "      <td>48.5</td>\n",
       "      <td>51.5</td>\n",
       "    </tr>\n",
       "    <tr>\n",
       "      <th>Farming-fishing</th>\n",
       "      <td>11.6</td>\n",
       "      <td>88.4</td>\n",
       "    </tr>\n",
       "    <tr>\n",
       "      <th>Handlers-cleaners</th>\n",
       "      <td>6.1</td>\n",
       "      <td>93.9</td>\n",
       "    </tr>\n",
       "    <tr>\n",
       "      <th>Machine-op-inspct</th>\n",
       "      <td>12.5</td>\n",
       "      <td>87.5</td>\n",
       "    </tr>\n",
       "    <tr>\n",
       "      <th>Other-service</th>\n",
       "      <td>4.1</td>\n",
       "      <td>95.9</td>\n",
       "    </tr>\n",
       "    <tr>\n",
       "      <th>Priv-house-serv</th>\n",
       "      <td>0.7</td>\n",
       "      <td>99.3</td>\n",
       "    </tr>\n",
       "    <tr>\n",
       "      <th>Prof-specialty</th>\n",
       "      <td>44.8</td>\n",
       "      <td>55.2</td>\n",
       "    </tr>\n",
       "    <tr>\n",
       "      <th>Protective-serv</th>\n",
       "      <td>32.6</td>\n",
       "      <td>67.4</td>\n",
       "    </tr>\n",
       "    <tr>\n",
       "      <th>Sales</th>\n",
       "      <td>27.1</td>\n",
       "      <td>72.9</td>\n",
       "    </tr>\n",
       "    <tr>\n",
       "      <th>Tech-support</th>\n",
       "      <td>30.5</td>\n",
       "      <td>69.5</td>\n",
       "    </tr>\n",
       "    <tr>\n",
       "      <th>Transport-moving</th>\n",
       "      <td>20.3</td>\n",
       "      <td>79.7</td>\n",
       "    </tr>\n",
       "    <tr>\n",
       "      <th>All</th>\n",
       "      <td>24.9</td>\n",
       "      <td>75.1</td>\n",
       "    </tr>\n",
       "  </tbody>\n",
       "</table>\n",
       "</div>"
      ],
      "text/plain": [
       "SalStat              greater than 50,000   less than or equal to 50,000\n",
       "occupation                                                             \n",
       " Adm-clerical                       13.4                           86.6\n",
       " Armed-Forces                       11.1                           88.9\n",
       " Craft-repair                       22.5                           77.5\n",
       " Exec-managerial                    48.5                           51.5\n",
       " Farming-fishing                    11.6                           88.4\n",
       " Handlers-cleaners                   6.1                           93.9\n",
       " Machine-op-inspct                  12.5                           87.5\n",
       " Other-service                       4.1                           95.9\n",
       " Priv-house-serv                     0.7                           99.3\n",
       " Prof-specialty                     44.8                           55.2\n",
       " Protective-serv                    32.6                           67.4\n",
       " Sales                              27.1                           72.9\n",
       " Tech-support                       30.5                           69.5\n",
       " Transport-moving                   20.3                           79.7\n",
       "All                                 24.9                           75.1"
      ]
     },
     "execution_count": 61,
     "metadata": {},
     "output_type": "execute_result"
    },
    {
     "data": {
      "image/png": "[encoded data removed]",
      "text/plain": [
       "<Figure size 640x480 with 1 Axes>"
      ]
     },
     "metadata": {},
     "output_type": "display_data"
    }
   ],
   "source": [
    "# Occupation\n",
    "Occupation  = sns.countplot(y=data2['occupation'],hue = 'SalStat', data=data2)\n",
    "occ_salstat = pd.crosstab(index = data2[\"occupation\"], columns =data2['SalStat'],margins = True,normalize = 'index')  \n",
    "round(occ_salstat*100,1)"
   ]
  },
  {
   "cell_type": "code",
   "execution_count": 63,
   "id": "b5b872af-1179-4aaf-8f74-d12abf0a0cad",
   "metadata": {},
   "outputs": [
    {
     "name": "stderr",
     "output_type": "stream",
     "text": [
      "C:\\Users\\sahil\\AppData\\Local\\Temp\\ipykernel_23516\\2267995637.py:2: UserWarning: \n",
      "\n",
      "`distplot` is a deprecated function and will be removed in seaborn v0.14.0.\n",
      "\n",
      "Please adapt your code to use either `displot` (a figure-level function with\n",
      "similar flexibility) or `histplot` (an axes-level function for histograms).\n",
      "\n",
      "For a guide to updating your code to use the new functions, please see\n",
      "https://gist.github.com/mwaskom/de44147ed2974457ad6372750bbe5751\n",
      "\n",
      "  sns.distplot(data2['capitalgain'], bins = 10, kde = False)\n"
     ]
    },
    {
     "data": {
      "text/plain": [
       "<Axes: xlabel='capitalgain'>"
      ]
     },
     "execution_count": 63,
     "metadata": {},
     "output_type": "execute_result"
    },
    {
     "data": {
      "image/png": "[encoded data removed]",
      "text/plain": [
       "<Figure size 640x480 with 1 Axes>"
      ]
     },
     "metadata": {},
     "output_type": "display_data"
    }
   ],
   "source": [
    "# Capital gain\n",
    "sns.distplot(data2['capitalgain'], bins = 10, kde = False)\n"
   ]
  },
  {
   "cell_type": "code",
   "execution_count": 64,
   "id": "e0e11476-ea0e-49ad-b6f6-16b49178b248",
   "metadata": {},
   "outputs": [
    {
     "name": "stderr",
     "output_type": "stream",
     "text": [
      "C:\\Users\\sahil\\AppData\\Local\\Temp\\ipykernel_23516\\3483189112.py:1: UserWarning: \n",
      "\n",
      "`distplot` is a deprecated function and will be removed in seaborn v0.14.0.\n",
      "\n",
      "Please adapt your code to use either `displot` (a figure-level function with\n",
      "similar flexibility) or `histplot` (an axes-level function for histograms).\n",
      "\n",
      "For a guide to updating your code to use the new functions, please see\n",
      "https://gist.github.com/mwaskom/de44147ed2974457ad6372750bbe5751\n",
      "\n",
      "  sns.distplot(data2['capitalloss'], bins = 10, kde = False)\n"
     ]
    },
    {
     "data": {
      "text/plain": [
       "<Axes: xlabel='capitalloss'>"
      ]
     },
     "execution_count": 64,
     "metadata": {},
     "output_type": "execute_result"
    },
    {
     "data": {
      "image/png": "[encoded data removed]",
      "text/plain": [
       "<Figure size 640x480 with 1 Axes>"
      ]
     },
     "metadata": {},
     "output_type": "display_data"
    }
   ],
   "source": [
    "sns.distplot(data2['capitalloss'], bins = 10, kde = False)"
   ]
  },
  {
   "cell_type": "code",
   "execution_count": 68,
   "id": "298ff58e-98e3-4ea5-b0dd-77454d95239e",
   "metadata": {},
   "outputs": [
    {
     "name": "stdout",
     "output_type": "stream",
     "text": [
      "0        0\n",
      "1        0\n",
      "2        1\n",
      "3        0\n",
      "4        0\n",
      "        ..\n",
      "31973    0\n",
      "31974    0\n",
      "31975    0\n",
      "31976    0\n",
      "31977    0\n",
      "Name: SalStat, Length: 30162, dtype: int64\n"
     ]
    }
   ],
   "source": [
    "#Logistic regression\n",
    "# Reindexing the salary status names to 0,1\n",
    "data3['SalStat']=data3['SalStat'].map({' less than or equal to 50,000':0,' greater than 50,000':1})\n",
    "print(data3['SalStat'])\n",
    "\n",
    "cols = ['gender','nativecountry','race','JobType']\n",
    "new_data = data3.drop(cols,axis = 1)\n",
    "\n",
    "new_data=pd.get_dummies(new_data, drop_first=True)"
   ]
  },
  {
   "cell_type": "code",
   "execution_count": 69,
   "id": "2389d2bd-8e40-43be-afe0-3d382e508b6f",
   "metadata": {},
   "outputs": [
    {
     "name": "stdout",
     "output_type": "stream",
     "text": [
      "['age', 'capitalgain', 'capitalloss', 'hoursperweek', 'SalStat', 'EdType_ 11th', 'EdType_ 12th', 'EdType_ 1st-4th', 'EdType_ 5th-6th', 'EdType_ 7th-8th', 'EdType_ 9th', 'EdType_ Assoc-acdm', 'EdType_ Assoc-voc', 'EdType_ Bachelors', 'EdType_ Doctorate', 'EdType_ HS-grad', 'EdType_ Masters', 'EdType_ Preschool', 'EdType_ Prof-school', 'EdType_ Some-college', 'maritalstatus_ Married-AF-spouse', 'maritalstatus_ Married-civ-spouse', 'maritalstatus_ Married-spouse-absent', 'maritalstatus_ Never-married', 'maritalstatus_ Separated', 'maritalstatus_ Widowed', 'occupation_ Armed-Forces', 'occupation_ Craft-repair', 'occupation_ Exec-managerial', 'occupation_ Farming-fishing', 'occupation_ Handlers-cleaners', 'occupation_ Machine-op-inspct', 'occupation_ Other-service', 'occupation_ Priv-house-serv', 'occupation_ Prof-specialty', 'occupation_ Protective-serv', 'occupation_ Sales', 'occupation_ Tech-support', 'occupation_ Transport-moving', 'relationship_ Not-in-family', 'relationship_ Other-relative', 'relationship_ Own-child', 'relationship_ Unmarried', 'relationship_ Wife']\n"
     ]
    }
   ],
   "source": [
    "# Storing the column names \n",
    "columns_list2=list(new_data.columns)\n",
    "print(columns_list2)"
   ]
  },
  {
   "cell_type": "code",
   "execution_count": 70,
   "id": "826255f0-5317-46a7-8ed0-3fd9cdb4448c",
   "metadata": {},
   "outputs": [
    {
     "name": "stdout",
     "output_type": "stream",
     "text": [
      "['occupation_ Armed-Forces', 'EdType_ Some-college', 'relationship_ Other-relative', 'maritalstatus_ Never-married', 'EdType_ 7th-8th', 'occupation_ Tech-support', 'EdType_ 5th-6th', 'relationship_ Wife', 'occupation_ Handlers-cleaners', 'EdType_ Assoc-voc', 'occupation_ Machine-op-inspct', 'relationship_ Own-child', 'EdType_ 9th', 'occupation_ Prof-specialty', 'occupation_ Craft-repair', 'capitalgain', 'maritalstatus_ Married-civ-spouse', 'relationship_ Not-in-family', 'EdType_ 12th', 'maritalstatus_ Married-spouse-absent', 'occupation_ Transport-moving', 'capitalloss', 'EdType_ Doctorate', 'occupation_ Protective-serv', 'EdType_ HS-grad', 'occupation_ Other-service', 'EdType_ Masters', 'occupation_ Priv-house-serv', 'EdType_ Prof-school', 'maritalstatus_ Separated', 'occupation_ Exec-managerial', 'occupation_ Sales', 'EdType_ 1st-4th', 'EdType_ Assoc-acdm', 'EdType_ 11th', 'EdType_ Bachelors', 'EdType_ Preschool', 'maritalstatus_ Widowed', 'occupation_ Farming-fishing', 'hoursperweek', 'age', 'relationship_ Unmarried', 'maritalstatus_ Married-AF-spouse']\n"
     ]
    }
   ],
   "source": [
    "# Separating the input names from data\n",
    "features2=list(set(columns_list2)-set(['SalStat']))\n",
    "print(features2)\n"
   ]
  },
  {
   "cell_type": "code",
   "execution_count": 71,
   "id": "21858a09-703c-4351-8014-eb2beda387b5",
   "metadata": {},
   "outputs": [
    {
     "name": "stdout",
     "output_type": "stream",
     "text": [
      "[0 0 1 ... 0 0 0]\n"
     ]
    }
   ],
   "source": [
    "# Storing the output values in y\n",
    "y2=new_data['SalStat'].values\n",
    "print(y2)"
   ]
  },
  {
   "cell_type": "code",
   "execution_count": 72,
   "id": "c42ad34c-0713-441e-a0de-2dd486d39c2e",
   "metadata": {},
   "outputs": [
    {
     "name": "stdout",
     "output_type": "stream",
     "text": [
      "[[False False False ... 45 False False]\n",
      " [True False False ... 24 False False]\n",
      " [False True False ... 44 False False]\n",
      " ...\n",
      " [False True False ... 23 False False]\n",
      " [False True False ... 42 False False]\n",
      " [False False False ... 29 False False]]\n"
     ]
    }
   ],
   "source": [
    "# Storing the values from input features\n",
    "x2 = new_data[features2].values\n",
    "print(x2)"
   ]
  },
  {
   "cell_type": "code",
   "execution_count": 73,
   "id": "d5e204b0-baa4-4531-9a04-080736b89f4e",
   "metadata": {},
   "outputs": [],
   "source": [
    "# Splitting the data into train and test\n",
    "train_x2,test_x2,train_y2,test_y2 = train_test_split(x2,y2,test_size=0.3, random_state=0)"
   ]
  },
  {
   "cell_type": "code",
   "execution_count": 74,
   "id": "02a55b22-f0b8-439b-8be9-058bc7e06e56",
   "metadata": {},
   "outputs": [
    {
     "name": "stderr",
     "output_type": "stream",
     "text": [
      "C:\\Users\\sahil\\AppData\\Local\\Programs\\Python\\Python311\\Lib\\site-packages\\sklearn\\linear_model\\_logistic.py:460: ConvergenceWarning: lbfgs failed to converge (status=1):\n",
      "STOP: TOTAL NO. of ITERATIONS REACHED LIMIT.\n",
      "\n",
      "Increase the number of iterations (max_iter) or scale the data as shown in:\n",
      "    https://scikit-learn.org/stable/modules/preprocessing.html\n",
      "Please also refer to the documentation for alternative solver options:\n",
      "    https://scikit-learn.org/stable/modules/linear_model.html#logistic-regression\n",
      "  n_iter_i = _check_optimize_result(\n"
     ]
    },
    {
     "data": {
      "text/html": [
       "<style>#sk-container-id-1 {color: black;}#sk-container-id-1 pre{padding: 0;}#sk-container-id-1 div.sk-toggleable {background-color: white;}#sk-container-id-1 label.sk-toggleable__label {cursor: pointer;display: block;width: 100%;margin-bottom: 0;padding: 0.3em;box-sizing: border-box;text-align: center;}#sk-container-id-1 label.sk-toggleable__label-arrow:before {content: \"▸\";float: left;margin-right: 0.25em;color: #696969;}#sk-container-id-1 label.sk-toggleable__label-arrow:hover:before {color: black;}#sk-container-id-1 div.sk-estimator:hover label.sk-toggleable__label-arrow:before {color: black;}#sk-container-id-1 div.sk-toggleable__content {max-height: 0;max-width: 0;overflow: hidden;text-align: left;background-color: #f0f8ff;}#sk-container-id-1 div.sk-toggleable__content pre {margin: 0.2em;color: black;border-radius: 0.25em;background-color: #f0f8ff;}#sk-container-id-1 input.sk-toggleable__control:checked~div.sk-toggleable__content {max-height: 200px;max-width: 100%;overflow: auto;}#sk-container-id-1 input.sk-toggleable__control:checked~label.sk-toggleable__label-arrow:before {content: \"▾\";}#sk-container-id-1 div.sk-estimator input.sk-toggleable__control:checked~label.sk-toggleable__label {background-color: #d4ebff;}#sk-container-id-1 div.sk-label input.sk-toggleable__control:checked~label.sk-toggleable__label {background-color: #d4ebff;}#sk-container-id-1 input.sk-hidden--visually {border: 0;clip: rect(1px 1px 1px 1px);clip: rect(1px, 1px, 1px, 1px);height: 1px;margin: -1px;overflow: hidden;padding: 0;position: absolute;width: 1px;}#sk-container-id-1 div.sk-estimator {font-family: monospace;background-color: #f0f8ff;border: 1px dotted black;border-radius: 0.25em;box-sizing: border-box;margin-bottom: 0.5em;}#sk-container-id-1 div.sk-estimator:hover {background-color: #d4ebff;}#sk-container-id-1 div.sk-parallel-item::after {content: \"\";width: 100%;border-bottom: 1px solid gray;flex-grow: 1;}#sk-container-id-1 div.sk-label:hover label.sk-toggleable__label {background-color: #d4ebff;}#sk-container-id-1 div.sk-serial::before {content: \"\";position: absolute;border-left: 1px solid gray;box-sizing: border-box;top: 0;bottom: 0;left: 50%;z-index: 0;}#sk-container-id-1 div.sk-serial {display: flex;flex-direction: column;align-items: center;background-color: white;padding-right: 0.2em;padding-left: 0.2em;position: relative;}#sk-container-id-1 div.sk-item {position: relative;z-index: 1;}#sk-container-id-1 div.sk-parallel {display: flex;align-items: stretch;justify-content: center;background-color: white;position: relative;}#sk-container-id-1 div.sk-item::before, #sk-container-id-1 div.sk-parallel-item::before {content: \"\";position: absolute;border-left: 1px solid gray;box-sizing: border-box;top: 0;bottom: 0;left: 50%;z-index: -1;}#sk-container-id-1 div.sk-parallel-item {display: flex;flex-direction: column;z-index: 1;position: relative;background-color: white;}#sk-container-id-1 div.sk-parallel-item:first-child::after {align-self: flex-end;width: 50%;}#sk-container-id-1 div.sk-parallel-item:last-child::after {align-self: flex-start;width: 50%;}#sk-container-id-1 div.sk-parallel-item:only-child::after {width: 0;}#sk-container-id-1 div.sk-dashed-wrapped {border: 1px dashed gray;margin: 0 0.4em 0.5em 0.4em;box-sizing: border-box;padding-bottom: 0.4em;background-color: white;}#sk-container-id-1 div.sk-label label {font-family: monospace;font-weight: bold;display: inline-block;line-height: 1.2em;}#sk-container-id-1 div.sk-label-container {text-align: center;}#sk-container-id-1 div.sk-container {/* jupyter's `normalize.less` sets `[hidden] { display: none; }` but bootstrap.min.css set `[hidden] { display: none !important; }` so we also need the `!important` here to be able to override the default hidden behavior on the sphinx rendered scikit-learn.org. See: https://github.com/scikit-learn/scikit-learn/issues/21755 */display: inline-block !important;position: relative;}#sk-container-id-1 div.sk-text-repr-fallback {display: none;}</style><div id=\"sk-container-id-1\" class=\"sk-top-container\"><div class=\"sk-text-repr-fallback\"><pre>LogisticRegression()</pre><b>In a Jupyter environment, please rerun this cell to show the HTML representation or trust the notebook. <br />On GitHub, the HTML representation is unable to render, please try loading this page with nbviewer.org.</b></div><div class=\"sk-container\" hidden><div class=\"sk-item\"><div class=\"sk-estimator sk-toggleable\"><input class=\"sk-toggleable__control sk-hidden--visually\" id=\"sk-estimator-id-1\" type=\"checkbox\" checked><label for=\"sk-estimator-id-1\" class=\"sk-toggleable__label sk-toggleable__label-arrow\">LogisticRegression</label><div class=\"sk-toggleable__content\"><pre>LogisticRegression()</pre></div></div></div></div></div>"
      ],
      "text/plain": [
       "LogisticRegression()"
      ]
     },
     "execution_count": 74,
     "metadata": {},
     "output_type": "execute_result"
    }
   ],
   "source": [
    "# Make an instance of the Model and fitting x &y\n",
    "logistic2 = LogisticRegression()\n",
    "logistic2.fit(train_x2,train_y2)"
   ]
  },
  {
   "cell_type": "code",
   "execution_count": 78,
   "id": "0faf8a11-cf0c-43b4-9804-8a8d09cfee98",
   "metadata": {},
   "outputs": [
    {
     "name": "stdout",
     "output_type": "stream",
     "text": [
      "[0 0 0 ... 0 0 0]\n"
     ]
    }
   ],
   "source": [
    "# Prediction from test data\n",
    "prediction2 = logistic2.predict(test_x2)"
   ]
  },
  {
   "cell_type": "code",
   "execution_count": 76,
   "id": "2ac818d4-e6fb-466e-a7f1-f8ba0dfe4282",
   "metadata": {},
   "outputs": [
    {
     "name": "stdout",
     "output_type": "stream",
     "text": [
      "Misclassified samples: 1501\n"
     ]
    }
   ],
   "source": [
    "# Printing the misclassified values from prediction\n",
    "print('Misclassified samples: %d' % (test_y2 != prediction2).sum())\n"
   ]
  },
  {
   "cell_type": "code",
   "execution_count": null,
   "id": "294ec592-55d0-456a-8a4d-3ac02effc837",
   "metadata": {},
   "outputs": [],
   "source": []
  }
 ],
 "metadata": {
  "kernelspec": {
   "display_name": "Python 3 (ipykernel)",
   "language": "python",
   "name": "python3"
  },
  "language_info": {
   "codemirror_mode": {
    "name": "ipython",
    "version": 3
   },
   "file_extension": ".py",
   "mimetype": "text/x-python",
   "name": "python",
   "nbconvert_exporter": "python",
   "pygments_lexer": "ipython3",
   "version": "3.11.1"
  }
 },
 "nbformat": 4,
 "nbformat_minor": 5
}
